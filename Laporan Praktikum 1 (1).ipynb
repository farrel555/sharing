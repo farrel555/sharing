{
  "metadata": {
    "kernelspec": {
      "name": "python",
      "display_name": "Python (Pyodide)",
      "language": "python"
    },
    "language_info": {
      "codemirror_mode": {
        "name": "python",
        "version": 3
      },
      "file_extension": ".py",
      "mimetype": "text/x-python",
      "name": "python",
      "nbconvert_exporter": "python",
      "pygments_lexer": "ipython3",
      "version": "3.8"
    }
  },
  "nbformat_minor": 4,
  "nbformat": 4,
  "cells": [
    {
      "cell_type": "raw",
      "source": "Pendahuluan",
      "metadata": {}
    },
    {
      "cell_type": "markdown",
      "source": "Pemrograman adalah salah satu keterampilan yang sangat penting dalam era digital saat ini. Bahasa pemrograman Python menjadi salah satu pilihan utama bagi banyak programmer, baik pemula maupun profesional, karena sintaksisnya yang sederhana dan kemampuannya yang luas dalam berbagai aplikasi, mulai dari pengembangan web hingga analisis data.\n\nDalam praktikum ini, saya akan melakukan latihan dasar menggunakan bahasa pemrograman Python untuk memperkuat pemahaman konsep dasar pemrograman, seperti pengolahan input, penghitungan, dan penggunaan struktur data. Salah satu latihan yang dilakukan adalah menghitung rata-rata dari sejumlah bilangan yang dimasukkan oleh pengguna. Melalui latihan ini, diharapkan peserta dapat memahami cara kerja input/output dalam Python, serta cara melakukan operasi matematis dasar.\n\nSelain itu, praktikum ini juga bertujuan untuk melatih kemampuan logika dan algoritma dalam menyelesaikan masalah, yang merupakan kunci dalam pengembangan perangkat lunak. Dengan melakukan latihan ini, diharapkan peserta dapat lebih siap menghadapi tantangan dalam pemrograman dan meningkatkan keterampilan coding mereka secara keseluruhan.\n",
      "metadata": {}
    },
    {
      "cell_type": "raw",
      "source": "Tujuan dan Manfaat",
      "metadata": {}
    },
    {
      "cell_type": "markdown",
      "source": "Sebuah program dapat diartikan kumpulan instruksi-instruksi yang dibuat secara terstruktur dan logis untuk menyelesaikan permasalahan. Sebuah masalah memiliki makna keadaan yang tidak sesuai dengan kenyataan. Tanpa permasalahan maka tidak akan ada program. \nSeorang pembuat program disebut dengan programmer harus memiliki kemampuan membuat program berdasarkan ketentuan masing-masing bahasa pemrograman yang digunakan\n",
      "metadata": {}
    }
  ]
}